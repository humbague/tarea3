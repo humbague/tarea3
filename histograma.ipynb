{
 "cells": [
  {
   "cell_type": "code",
   "execution_count": 1,
   "metadata": {
    "collapsed": false
   },
   "outputs": [
    {
     "data": {
      "text/plain": [
       "histograma (generic function with 1 method)"
      ]
     },
     "execution_count": 1,
     "metadata": {},
     "output_type": "execute_result"
    }
   ],
   "source": [
    "using PyPlot\n",
    "function chop(mat, tol = 1e-5)\n",
    "    for i in eachindex(mat)\n",
    "        if abs(mat[i]) < tol\n",
    "            mat[i] = 0.\n",
    "            elseif mat[i].im<tol\n",
    "            mat[i]=mat[i].re\n",
    "        end\n",
    "    end\n",
    "    mat\n",
    "end\n",
    "\n",
    "function hermitian(n)\n",
    "    a=rand(n,n)+1im*rand(n,n)\n",
    "    b=triu(a,1)\n",
    "    M=b+transpose(conj(b))+Diagonal(rand(n,n))\n",
    "    return M\n",
    "end\n",
    "\n",
    "function histograma(n::Int)\n",
    "    A=hermitian(n)  \n",
    "    vecs=eigvecs(A)\n",
    "    B=inv(vecs)*A*vecs\n",
    "    BB=chop(B)\n",
    "    H=expm(-im*BB)\n",
    "    map(angle,eigvals(H))\n",
    "end"
   ]
  },
  {
   "cell_type": "code",
   "execution_count": 2,
   "metadata": {
    "collapsed": false
   },
   "outputs": [],
   "source": [
    "x=histograma(1000);"
   ]
  },
  {
   "cell_type": "code",
   "execution_count": 3,
   "metadata": {
    "collapsed": false
   },
   "outputs": [
    {
     "data": {
      "image/png": "[encoded data removed]",
      "text/plain": [
       "PyPlot.Figure(PyObject <matplotlib.figure.Figure object at 0x7f159ab06610>)"
      ]
     },
     "metadata": {},
     "output_type": "display_data"
    },
    {
     "data": {
      "text/plain": [
       "([50.0,50.0,52.0,47.0,51.0,51.0,47.0,54.0,49.0,48.0,50.0,51.0,49.0,50.0,49.0,51.0,51.0,54.0,46.0,50.0],[-3.14153,-2.82759,-2.51364,-2.1997,-1.88576,-1.57182,-1.25788,-0.943935,-0.629993,-0.316051  …  0.311833,0.625775,0.939717,1.25366,1.5676,1.88154,2.19548,2.50943,2.82337,3.13731],Any[PyObject <matplotlib.patches.Rectangle object at 0x7f1598841750>,PyObject <matplotlib.patches.Rectangle object at 0x7f1598841e10>,PyObject <matplotlib.patches.Rectangle object at 0x7f15987d54d0>,PyObject <matplotlib.patches.Rectangle object at 0x7f15987d5b50>,PyObject <matplotlib.patches.Rectangle object at 0x7f15987e4210>,PyObject <matplotlib.patches.Rectangle object at 0x7f15987e4890>,PyObject <matplotlib.patches.Rectangle object at 0x7f15987e4f10>,PyObject <matplotlib.patches.Rectangle object at 0x7f15987f05d0>,PyObject <matplotlib.patches.Rectangle object at 0x7f15987f0c50>,PyObject <matplotlib.patches.Rectangle object at 0x7f15987fe310>,PyObject <matplotlib.patches.Rectangle object at 0x7f15987fe990>,PyObject <matplotlib.patches.Rectangle object at 0x7f15987fee90>,PyObject <matplotlib.patches.Rectangle object at 0x7f159880c6d0>,PyObject <matplotlib.patches.Rectangle object at 0x7f159880cd50>,PyObject <matplotlib.patches.Rectangle object at 0x7f159879a410>,PyObject <matplotlib.patches.Rectangle object at 0x7f159879aa90>,PyObject <matplotlib.patches.Rectangle object at 0x7f159879af90>,PyObject <matplotlib.patches.Rectangle object at 0x7f15987a77d0>,PyObject <matplotlib.patches.Rectangle object at 0x7f15987a7e50>,PyObject <matplotlib.patches.Rectangle object at 0x7f15987b4510>])"
      ]
     },
     "execution_count": 3,
     "metadata": {},
     "output_type": "execute_result"
    }
   ],
   "source": [
    "h = plt[:hist](x,20) "
   ]
  },
  {
   "cell_type": "code",
   "execution_count": 15,
   "metadata": {
    "collapsed": false
   },
   "outputs": [],
   "source": [
    "using Base.Test\n",
    "\n",
    "function hermitian(n::Int)\n",
    "    a=rand(n,n)+1im*rand(n,n)\n",
    "    b=triu(a,1)\n",
    "    M=b+transpose(conj(b))+Diagonal(rand(n,n))\n",
    "    return M\n",
    "end\n",
    "\n",
    "function daga(state::Array{Complex{Float64},1})\n",
    "    return transpose(conj(state))\n",
    "end\n",
    "\n",
    "function proyeccion(dim::Int)\n",
    "    M=hermitian(dim)\n",
    "    A=zeros(dim,dim)\n",
    "    vecs=eigvecs(M)\n",
    "    for i in 1:dim\n",
    "        A+=kron(vecs[:,i],daga(vecs[:,i]))\n",
    "    end\n",
    "    # chop(A)\n",
    "    return A\n",
    "end\n",
    "\n",
    "#La función prueba probará si la matriz obtenida a través de la función proyeccion es unitaria\n",
    "function prueba(dim::Int)\n",
    "    MM=hermitian(dim)\n",
    "    M=proyeccion(dim)\n",
    "    A=eye(dim)-M\n",
    "    b=0\n",
    "    for i in A\n",
    "        b+=abs(i)\n",
    "    end\n",
    "    if b>1e-5\n",
    "        return false\n",
    "    end\n",
    "    return true\n",
    "end\n",
    "    \n",
    "@test ishermitian(hermitian(3))    \n",
    "@test prueba(3)"
   ]
  }
 ],
 "metadata": {
  "anaconda-cloud": {},
  "kernelspec": {
   "display_name": "Julia 0.4.6",
   "language": "julia",
   "name": "julia-0.4"
  },
  "language_info": {
   "file_extension": ".jl",
   "mimetype": "application/julia",
   "name": "julia",
   "version": "0.4.6"
  }
 },
 "nbformat": 4,
 "nbformat_minor": 0
}
